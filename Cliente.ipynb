{
 "cells": [
  {
   "cell_type": "code",
   "execution_count": null,
   "metadata": {
    "scrolled": true
   },
   "outputs": [
    {
     "name": "stdout",
     "output_type": "stream",
     "text": [
      "Antes de establecer conexión con el servidor le queríamos recordar que\n",
      "este servidor cuenta con los siguientes comandos:\n",
      "\n",
      "\n",
      "register (usuario) (contraseña): registra un usuario.\n",
      "\n",
      "login (usuario) (contraseña): hace login al usuario.\n",
      "\n",
      "testconnection (usuario) (contraseña) : Se indica si sigue conectado al servidor.\n",
      "\n",
      "exit (usuario) (contraseña): cierra la sesión del usuario usuario\n",
      "\n",
      "\n"
     ]
    }
   ],
   "source": [
    "import socket\n",
    "\n",
    "# Configuración del cliente\n",
    "server_address = ('localhost', 6780)\n",
    "\n",
    "# Mensaje a enviar al servidor\n",
    "# Usamos un mensaje inicial, por ejemplo, para hacer login o cualquier otra operación\n",
    "print(\"Antes de establecer conexión con el servidor le queríamos recordar que\")\n",
    "print(\"este servidor cuenta con los siguientes comandos:\\n\\n\")\n",
    "\n",
    "print(\"register (usuario) (contraseña): registra un usuario.\\n\")\n",
    "print(\"login (usuario) (contraseña): hace login al usuario.\\n\")\n",
    "print(\"testconnection (usuario) (contraseña) : Se indica si sigue conectado al servidor.\\n\")\n",
    "print(\"exit (usuario) (contraseña): cierra la sesión del usuario usuario\\n\\n\")\n",
    "\n",
    "\n",
    "# Crear un socket TCP/\n",
    "sock = socket.socket(socket.AF_INET, socket.SOCK_STREAM)\n",
    "comando =input(\"Escriba el comando que quiera utilizar:\")\n",
    "usuario =input(\"Usuario: \")\n",
    "contraseña=input(\"Contraseña: \")\n",
    "message=comando+\" \"+usuario+\" \"+contraseña\n",
    "print(\"\\n\\n\")\n",
    "try:\n",
    "    # Conectar al servidor\n",
    "    sock.connect(server_address)\n",
    "    # Enviar el mensaje inicial\n",
    "    sock.sendall(message.encode())\n",
    "    # Mantener la conexión abierta, escuchando las respuestas del servidor\n",
    "    while True:\n",
    "        # Recibir la respuesta del servidor\n",
    "        response = sock.recv(1024)  # Ajusta el tamaño de búfer según sea necesario\n",
    "        \n",
    "        print(\"Respuesta del servidor:\", response.decode())\n",
    "        if (response.decode().split(' ')[0]=='Desconectado.' ):\n",
    "            break  # Si no se recibe respuesta, se asume que el servidor cerró la conexión\n",
    "        elif(response.decode().split(' ')[0]=='Registro'):\n",
    "            print(\"Se ha registrado su usuario con éxito,\\n\")\n",
    "            comando =input(\"Escriba el comando que quiera utilizar:\")\n",
    "            usuario =input(\"Usuario: \")\n",
    "            contraseña=input(\"Contraseña: \")\n",
    "            newmessage=comando+\" \"+usuario+\" \"+contraseña\n",
    "            print(\"\\n\\n\")\n",
    "            sock.sendall(newmessage.encode())\n",
    "        elif(response.decode().split(' ')[0]=='Login' ):\n",
    "            print(\"Se ha hecho login su usuario con éxito.\\n\")\n",
    "            comando =input(\"Escriba el comando que quiera utilizar:\")\n",
    "            usuario =input(\"Usuario: \")\n",
    "            contraseña=input(\"Contraseña: \")\n",
    "            newmessage=comando+\" \"+usuario+\" \"+contraseña\n",
    "            print(\"\\n\\n\")\n",
    "            sock.sendall(newmessage.encode())\n",
    "        else:\n",
    "            comando =input(\"Escriba el comando que quiera utilizar:\")\n",
    "            usuario =input(\"Usuario: \")\n",
    "            contraseña=input(\"Contraseña: \")\n",
    "            newmessage=comando+\" \"+usuario+\" \"+contraseña\n",
    "            print(\"\\n\\n\")\n",
    "            sock.sendall(newmessage.encode())\n",
    "            \n",
    "        if not response:\n",
    "            break  # Si no se recibe respuesta, se asume que el servidor cerró la conexión   \n",
    "finally:\n",
    "    # Cerrar conexión\n",
    "    sock.close()"
   ]
  }
 ],
 "metadata": {
  "kernelspec": {
   "display_name": "Python 3",
   "language": "python",
   "name": "python3"
  },
  "language_info": {
   "codemirror_mode": {
    "name": "ipython",
    "version": 3
   },
   "file_extension": ".py",
   "mimetype": "text/x-python",
   "name": "python",
   "nbconvert_exporter": "python",
   "pygments_lexer": "ipython3",
   "version": "3.8.3"
  }
 },
 "nbformat": 4,
 "nbformat_minor": 4
}
