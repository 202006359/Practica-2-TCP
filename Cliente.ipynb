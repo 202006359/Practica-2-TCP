{
 "cells": [
  {
   "cell_type": "code",
   "execution_count": 2,
   "metadata": {},
   "outputs": [
    {
     "name": "stdout",
     "output_type": "stream",
     "text": [
      "Escriba el comando que quiera utilizar:login\n",
      "Respuesta del servidor: Desconectado. Se le ha desconectado del servidor\n"
     ]
    }
   ],
   "source": [
    "import socket\n",
    "\n",
    "# Configuración del cliente\n",
    "server_address = ('localhost', 6780)\n",
    "\n",
    "# Mensaje a enviar al servidor\n",
    "# Usamos un mensaje inicial, por ejemplo, para hacer login o cualquier otra operación\n",
    "message =input(\"Escriba el comando que quiera utilizar:\")\n",
    "\n",
    "# Crear un socket TCP/\n",
    "sock = socket.socket(socket.AF_INET, socket.SOCK_STREAM)\n",
    "\n",
    "try:\n",
    "    # Conectar al servidor\n",
    "    sock.connect(server_address)\n",
    "    # Enviar el mensaje inicial\n",
    "    sock.sendall(message.encode())\n",
    "    # Mantener la conexión abierta, escuchando las respuestas del servidor\n",
    "    while True:\n",
    "        # Recibir la respuesta del servidor\n",
    "        response = sock.recv(1024)  # Ajusta el tamaño de búfer según sea necesario\n",
    "        print(\"Respuesta del servidor:\", response.decode())\n",
    "        if (response.decode().split(' ')[0]=='Desconectado.' ):\n",
    "            break  # Si no se recibe respuesta, se asume que el servidor cerró la conexión\n",
    "        else:\n",
    "            newmessage=input(\"Escriba su próximo comando aquí:\")\n",
    "            sock.sendall(newmessage.encode())\n",
    "            \n",
    "        if not response:\n",
    "            break  # Si no se recibe respuesta, se asume que el servidor cerró la conexión   \n",
    "finally:\n",
    "    # Cerrar conexión\n",
    "    sock.close()"
   ]
  },
  {
   "cell_type": "code",
   "execution_count": null,
   "metadata": {},
   "outputs": [],
   "source": []
  },
  {
   "cell_type": "code",
   "execution_count": null,
   "metadata": {},
   "outputs": [],
   "source": []
  }
 ],
 "metadata": {
  "kernelspec": {
   "display_name": "Python 3 (ipykernel)",
   "language": "python",
   "name": "python3"
  },
  "language_info": {
   "codemirror_mode": {
    "name": "ipython",
    "version": 3
   },
   "file_extension": ".py",
   "mimetype": "text/x-python",
   "name": "python",
   "nbconvert_exporter": "python",
   "pygments_lexer": "ipython3",
   "version": "3.9.12"
  }
 },
 "nbformat": 4,
 "nbformat_minor": 4
}
