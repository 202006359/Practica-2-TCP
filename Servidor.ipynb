{
 "cells": [
  {
   "cell_type": "code",
   "execution_count": null,
   "metadata": {},
   "outputs": [
    {
     "name": "stdout",
     "output_type": "stream",
     "text": [
      "Servidor iniciado, esperando conexiones...\n",
      "Conexión desde ('127.0.0.1', 63057)\n"
     ]
    }
   ],
   "source": [
    "import socket\n",
    "import threading\n",
    "import FuncionesServidor as fs\n",
    "\n",
    "# Manejo de conexiones de cliente\n",
    "def handle_client(connection, client_address):\n",
    "    error_message=''\n",
    "    try:\n",
    "        while True:  # Mantener la conexión abierta\n",
    "            data = connection.recv(1024).decode()\n",
    "            if not data:\n",
    "                break  # Romper el bucle si no se recibe data\n",
    "            else:\n",
    "                command, username, password = data.split(' ')\n",
    "            \n",
    "            if command == 'exit':\n",
    "                fs.remove_connection(username, client_address)\n",
    "                break  # Romper el bucle si el comando es 'exit'\n",
    "            elif command=='testconnection':\n",
    "                connection.sendall('Usted sigue conectado al servidor\\n'.encode())\n",
    "            elif command == 'register':\n",
    "                if fs.register_user(username, password):\n",
    "                    connection.sendall('Registro exitoso\\n'.encode())\n",
    "                else:\n",
    "                    error_message='Error: el usuario ya existe'\n",
    "                    break\n",
    "            elif command == 'login':\n",
    "                if fs.login_user(username, password):\n",
    "                    fs.add_connection(username, str(client_address))\n",
    "                    connection.sendall('Login exitoso\\n'.encode())\n",
    "                else:\n",
    "                    error_message='Error: usuario o contraseña incorrectos'\n",
    "                    break\n",
    "            else:\n",
    "                break\n",
    "    finally:\n",
    "        connection.sendall(('Desconectado. Se le ha desconectado del servidor'+ error_message).encode())\n",
    "        connection.close()\n",
    "        \n",
    "\n",
    "        \n",
    "        \n",
    "# Configuración del servidor\n",
    "server_address = ('localhost', 6780)\n",
    "sock = socket.socket(socket.AF_INET, socket.SOCK_STREAM)\n",
    "sock.bind(server_address)\n",
    "sock.listen()\n",
    "\n",
    "print(\"Servidor iniciado, esperando conexiones...\")\n",
    "\n",
    "while True:\n",
    "    connection, client_address = sock.accept()\n",
    "    print(f\"Conexión desde {client_address}\")\n",
    "    threading.Thread(target=handle_client, args=(connection, client_address)).start()"
   ]
  }
 ],
 "metadata": {
  "kernelspec": {
   "display_name": "Python 3",
   "language": "python",
   "name": "python3"
  },
  "language_info": {
   "codemirror_mode": {
    "name": "ipython",
    "version": 3
   },
   "file_extension": ".py",
   "mimetype": "text/x-python",
   "name": "python",
   "nbconvert_exporter": "python",
   "pygments_lexer": "ipython3",
   "version": "3.8.3"
  }
 },
 "nbformat": 4,
 "nbformat_minor": 4
}
