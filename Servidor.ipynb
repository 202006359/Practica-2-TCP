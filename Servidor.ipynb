{
 "cells": [
  {
   "cell_type": "code",
   "execution_count": null,
   "metadata": {},
   "outputs": [
    {
     "name": "stdout",
     "output_type": "stream",
     "text": [
      "Servidor iniciado, esperando conexiones...\n"
     ]
    },
    {
     "name": "stderr",
     "output_type": "stream",
     "text": [
      "Exception in thread Thread-5:\n",
      "Traceback (most recent call last):\n",
      "  File \"C:\\Users\\Alfredo\\anaconda3\\lib\\threading.py\", line 973, in _bootstrap_inner\n",
      "    self.run()\n",
      "  File \"C:\\Users\\Alfredo\\anaconda3\\lib\\threading.py\", line 910, in run\n",
      "    self._target(*self._args, **self._kwargs)\n",
      "  File \"C:\\Users\\Alfredo\\AppData\\Local\\Temp\\ipykernel_32920\\1869256640.py\", line 79, in handle_client\n",
      "UnboundLocalError: local variable 'username' referenced before assignment\n"
     ]
    },
    {
     "name": "stdout",
     "output_type": "stream",
     "text": [
      "Conexión desde ('127.0.0.1', 56687)\n"
     ]
    },
    {
     "name": "stderr",
     "output_type": "stream",
     "text": [
      "Exception in thread Thread-6:\n",
      "Traceback (most recent call last):\n",
      "  File \"C:\\Users\\Alfredo\\anaconda3\\lib\\threading.py\", line 973, in _bootstrap_inner\n",
      "    self.run()\n",
      "  File \"C:\\Users\\Alfredo\\anaconda3\\lib\\threading.py\", line 910, in run\n",
      "    self._target(*self._args, **self._kwargs)\n",
      "  File \"C:\\Users\\Alfredo\\AppData\\Local\\Temp\\ipykernel_32920\\1869256640.py\", line 79, in handle_client\n",
      "UnboundLocalError: local variable 'username' referenced before assignment\n"
     ]
    },
    {
     "name": "stdout",
     "output_type": "stream",
     "text": [
      "Conexión desde ('127.0.0.1', 56689)\n"
     ]
    }
   ],
   "source": [
    "import socket\n",
    "import threading\n",
    "\n",
    "#Los usuarios se guardan en 'application_users.txt' sabiendo que en cada linea del txt hay únicamente un usuario con su contraseña\n",
    "#siguiendo la estructura usuario:contraseña\n",
    "\n",
    "# Ruta al archivo de usuarios\n",
    "users_file = 'application_users.txt'\n",
    "connections_file='current_connections.txt'\n",
    "\n",
    "\n",
    "# Función para comprobar si un usuario ya existe\n",
    "def user_exists(username): #Función que busca si un usuario ya está guardado.\n",
    "    with open(users_file, 'r') as file:\n",
    "        for line in file:\n",
    "            if username == line.strip().split(':')[0]: #Se busca linea por linea si ecxiste alguna coincidencia\n",
    "                return True # Si se encuentra una coincidencia se sale del bucle y se devuelve True\n",
    "    return False #Si no se encuentra ninguna coincidencia se sale con un False\n",
    "\n",
    "# Función para registrar un nuevo usuario\n",
    "def register_user(username, password):\n",
    "    if user_exists(username):#Se checkea paar que no haya nombres duplicados\n",
    "        return False\n",
    "    else:\n",
    "        with open(users_file, 'a') as file:\n",
    "            file.write(f'{username}:{password}\\n') # Si no hay un duplicado se añade una nueva linea con username:password\n",
    "        return True\n",
    "\n",
    "# Función para validar el login de un usuario\n",
    "def login_user(username, password):\n",
    "    with open(users_file, 'r') as file:\n",
    "        for line in file: \n",
    "            user, passw = line.strip().split(':')\n",
    "            if username == user and password == passw:  # Para cada linea se compara si la combinacion de usuario \n",
    "                                                        # mas contraseña existe en alguna línea\n",
    "                return True                             # si existe alguna coincidencia se hace login.\n",
    "    return False                                        # si no existe alguna coincidencia no se hace login.\n",
    "\n",
    "def add_connection(username, client_address):\n",
    "    with open(connections_file, 'a') as file:\n",
    "        file.write(f'{username}:{client_address}\\n') # Si no hay un duplicado se añade una nueva linea con username:password\n",
    "    return True\n",
    "def remove_connection(username, client_address):\n",
    "    with open(connections_file, 'r') as file:\n",
    "        lines = file.readlines()  # Leer todas las líneas del archivo\n",
    "    \n",
    "    # Filtrar las líneas para eliminar la correspondiente a la conexión que queremos borrar\n",
    "    with open(connections_file, 'w') as file:\n",
    "        for line in lines:\n",
    "            if line.strip() != f'{username}:{client_address}':\n",
    "                file.write(line)\n",
    "    return True\n",
    "    \n",
    "# Manejo de conexiones de cliente\n",
    "def handle_client(connection, client_address):\n",
    "    error_message=''\n",
    "    try:\n",
    "        while True:  # Mantener la conexión abierta\n",
    "            data = connection.recv(1024).decode()\n",
    "            if not data:\n",
    "                break  # Romper el bucle si no se recibe data\n",
    "            elif len(data.split(\" \")) == 1:\n",
    "                command= data\n",
    "            else:\n",
    "                command, username, password = data.split(' ')\n",
    "            \n",
    "            if command == 'exit':\n",
    "                remove_connection(username, client_address)\n",
    "                break  # Romper el bucle si el comando es 'exit'\n",
    "            elif command=='testconnection':\n",
    "                connection.sendall('Usted sigue conectado al servidor'.encode())\n",
    "            elif command == 'register':\n",
    "                if register_user(username, password):\n",
    "                    connection.sendall('Registro exitoso'.encode())\n",
    "                else:\n",
    "                    error_message='Error: el usuario ya existe'\n",
    "                    break\n",
    "            elif command == 'login':\n",
    "                if login_user(username, password):\n",
    "                    add_connection(username, str(client_address))\n",
    "                    connection.sendall('Login exitoso'.encode())\n",
    "                else:\n",
    "                    error_message='Error: usuario o contraseña incorrectos'\n",
    "                    break\n",
    "            else:\n",
    "                break\n",
    "    finally:\n",
    "        connection.sendall(('Desconectado. Se le ha desconectado del servidor'+ error_message).encode())\n",
    "        connection.close()\n",
    "        \n",
    "\n",
    "# Configuración del servidor\n",
    "# Configuración del servidor\n",
    "server_address = ('localhost', 6780)\n",
    "sock = socket.socket(socket.AF_INET, socket.SOCK_STREAM)\n",
    "sock.bind(server_address)\n",
    "sock.listen()\n",
    "\n",
    "print(\"Servidor iniciado, esperando conexiones...\")\n",
    "\n",
    "while True:\n",
    "    connection, client_address = sock.accept()\n",
    "    print(f\"Conexión desde {client_address}\")\n",
    "    threading.Thread(target=handle_client, args=(connection, client_address)).start()"
   ]
  },
  {
   "cell_type": "code",
   "execution_count": null,
   "metadata": {},
   "outputs": [],
   "source": []
  }
 ],
 "metadata": {
  "kernelspec": {
   "display_name": "Python 3 (ipykernel)",
   "language": "python",
   "name": "python3"
  },
  "language_info": {
   "codemirror_mode": {
    "name": "ipython",
    "version": 3
   },
   "file_extension": ".py",
   "mimetype": "text/x-python",
   "name": "python",
   "nbconvert_exporter": "python",
   "pygments_lexer": "ipython3",
   "version": "3.9.12"
  }
 },
 "nbformat": 4,
 "nbformat_minor": 4
}
